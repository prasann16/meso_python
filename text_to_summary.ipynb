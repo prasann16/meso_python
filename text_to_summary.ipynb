{
 "cells": [
  {
   "cell_type": "code",
   "execution_count": 1,
   "metadata": {},
   "outputs": [
    {
     "name": "stdout",
     "output_type": "stream",
     "text": [
      "Dr: Hi Jill, we would like to discharge you tomorrow and want to go over everything you need to know when you go home. Does that sound good? Pt: Yes that sounds great Dr: To start off, let’s review your medications. The only change is we need to replace your Mevacor to Lipitor, 20 mg once a day in the morning. This is for your cholesterol. Due to your recent increase in mucus congestion, we’d like for you to start doing chest physical therapy as we discussed earlier. You also want to make sure you drink lots of water and take pancreatic enzymes to help with digestion. We’d like for you to get an MRI at Women’s College Hospital next Monday at 1 pm. We also want you to come back for a follow up appointment in 3 months. If you have any questions please feel free to contact us. Pt: Thank you so much doctor\n"
     ]
    }
   ],
   "source": [
    "file = open(\"conversation.txt\",\"r\")\n",
    "text = file.read()\n",
    "# Removing \\n at the end\n",
    "text = text.split('\\n')[0]\n",
    "print(text)"
   ]
  },
  {
   "cell_type": "code",
   "execution_count": 3,
   "metadata": {},
   "outputs": [
    {
     "name": "stdout",
     "output_type": "stream",
     "text": [
      "Entity {'Id': 2, 'BeginOffset': 7, 'EndOffset': 11, 'Score': 0.9997416138648987, 'Text': 'Jill', 'Category': 'PROTECTED_HEALTH_INFORMATION', 'Type': 'NAME', 'Traits': []}\n",
      "Entity {'Id': 4, 'BeginOffset': 259, 'EndOffset': 266, 'Score': 0.9708304405212402, 'Text': 'Mevacor', 'Category': 'MEDICATION', 'Type': 'BRAND_NAME', 'Traits': [], 'Attributes': [{'Type': 'DOSAGE', 'Score': 0.9935809373855591, 'RelationshipScore': 0.9973952770233154, 'Id': 6, 'BeginOffset': 279, 'EndOffset': 284, 'Text': '20 mg', 'Traits': []}, {'Type': 'FREQUENCY', 'Score': 0.9989423155784607, 'RelationshipScore': 0.9997729659080505, 'Id': 7, 'BeginOffset': 285, 'EndOffset': 295, 'Text': 'once a day', 'Traits': []}]}\n",
      "Entity {'Id': 5, 'BeginOffset': 270, 'EndOffset': 277, 'Score': 0.9998358488082886, 'Text': 'Lipitor', 'Category': 'MEDICATION', 'Type': 'BRAND_NAME', 'Traits': [], 'Attributes': [{'Type': 'DOSAGE', 'Score': 0.9935809373855591, 'RelationshipScore': 0.9997052550315857, 'Id': 6, 'BeginOffset': 279, 'EndOffset': 284, 'Text': '20 mg', 'Traits': []}, {'Type': 'FREQUENCY', 'Score': 0.9989423155784607, 'RelationshipScore': 0.999135434627533, 'Id': 7, 'BeginOffset': 285, 'EndOffset': 295, 'Text': 'once a day', 'Traits': []}]}\n",
      "Entity {'Id': 9, 'BeginOffset': 373, 'EndOffset': 389, 'Score': 0.7535990476608276, 'Text': 'mucus congestion', 'Category': 'MEDICAL_CONDITION', 'Type': 'DX_NAME', 'Traits': [{'Name': 'SYMPTOM', 'Score': 0.8329538106918335}]}\n",
      "Entity {'Id': 10, 'BeginOffset': 424, 'EndOffset': 429, 'Score': 0.49223488569259644, 'Text': 'chest', 'Category': 'ANATOMY', 'Type': 'SYSTEM_ORGAN_SITE', 'Traits': []}\n",
      "Entity {'Id': 0, 'BeginOffset': 424, 'EndOffset': 446, 'Score': 0.6008956432342529, 'Text': 'chest physical therapy', 'Category': 'TEST_TREATMENT_PROCEDURE', 'Type': 'TREATMENT_NAME', 'Traits': []}\n",
      "Entity {'Id': 8, 'BeginOffset': 532, 'EndOffset': 550, 'Score': 0.9519545435905457, 'Text': 'pancreatic enzymes', 'Category': 'MEDICATION', 'Type': 'GENERIC_NAME', 'Traits': []}\n",
      "Entity {'Id': 1, 'BeginOffset': 603, 'EndOffset': 606, 'Score': 0.9799022674560547, 'Text': 'MRI', 'Category': 'TEST_TREATMENT_PROCEDURE', 'Type': 'TEST_NAME', 'Traits': []}\n",
      "Entity {'Id': 3, 'BeginOffset': 610, 'EndOffset': 634, 'Score': 0.998185932636261, 'Text': 'Women’s College Hospital', 'Category': 'PROTECTED_HEALTH_INFORMATION', 'Type': 'ADDRESS', 'Traits': []}\n"
     ]
    }
   ],
   "source": [
    "import boto3\n",
    "client = boto3.client(service_name='comprehendmedical', region_name='us-east-2')\n",
    "result = client.detect_entities(Text= text)\n",
    "entities = result['Entities'];\n",
    "for entity in entities:\n",
    "    print('Entity', entity)"
   ]
  },
  {
   "cell_type": "code",
   "execution_count": 7,
   "metadata": {},
   "outputs": [
    {
     "data": {
      "text/plain": [
       "dict_keys(['Entities', 'UnmappedAttributes', 'ResponseMetadata'])"
      ]
     },
     "execution_count": 7,
     "metadata": {},
     "output_type": "execute_result"
    }
   ],
   "source": [
    "result.keys()"
   ]
  },
  {
   "cell_type": "code",
   "execution_count": 12,
   "metadata": {},
   "outputs": [
    {
     "data": {
      "text/plain": [
       "{'Attributes': [{'BeginOffset': 279,\n",
       "   'EndOffset': 284,\n",
       "   'Id': 6,\n",
       "   'RelationshipScore': 0.9997052550315857,\n",
       "   'Score': 0.9935809373855591,\n",
       "   'Text': '20 mg',\n",
       "   'Traits': [],\n",
       "   'Type': 'DOSAGE'},\n",
       "  {'BeginOffset': 285,\n",
       "   'EndOffset': 295,\n",
       "   'Id': 7,\n",
       "   'RelationshipScore': 0.999135434627533,\n",
       "   'Score': 0.9989423155784607,\n",
       "   'Text': 'once a day',\n",
       "   'Traits': [],\n",
       "   'Type': 'FREQUENCY'}],\n",
       " 'BeginOffset': 270,\n",
       " 'Category': 'MEDICATION',\n",
       " 'EndOffset': 277,\n",
       " 'Id': 5,\n",
       " 'Score': 0.9998358488082886,\n",
       " 'Text': 'Lipitor',\n",
       " 'Traits': [],\n",
       " 'Type': 'BRAND_NAME'}"
      ]
     },
     "execution_count": 12,
     "metadata": {},
     "output_type": "execute_result"
    }
   ],
   "source": [
    "result['Entities'][2]"
   ]
  },
  {
   "cell_type": "code",
   "execution_count": null,
   "metadata": {
    "collapsed": true
   },
   "outputs": [],
   "source": []
  }
 ],
 "metadata": {
  "kernelspec": {
   "display_name": "Python 3",
   "language": "python",
   "name": "python3"
  },
  "language_info": {
   "codemirror_mode": {
    "name": "ipython",
    "version": 3
   },
   "file_extension": ".py",
   "mimetype": "text/x-python",
   "name": "python",
   "nbconvert_exporter": "python",
   "pygments_lexer": "ipython3",
   "version": "3.6.3"
  }
 },
 "nbformat": 4,
 "nbformat_minor": 2
}
