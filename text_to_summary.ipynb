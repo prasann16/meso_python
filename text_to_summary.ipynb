{
 "cells": [
  {
   "cell_type": "code",
   "execution_count": 1,
   "metadata": {},
   "outputs": [
    {
     "name": "stdout",
     "output_type": "stream",
     "text": [
      "Dr: Hi Jill, we would like to discharge you tomorrow and want to go over everything you need to know when you go home. Does that sound good? Pt: Yes that sounds great Dr: To start off, let’s review your medications. The only change is we need to replace your Mevacor to Lipitor, 20 mg once a day in the morning. Drink two cups of water daily. This is for your cholesterol. Due to your recent increase in mucus congestion, we’d like for you to start doing chest physical therapy 4 times daily as we discussed earlier. You also want to make sure you drink lots of water and take pancreatic enzymes to help with digestion. We’d like for you to get an MRI at Women’s College Hospital next Monday at 1 pm. We also want you to come back for a follow up appointment in 3 months. If you have any questions please feel free to contact us. Pt: Thank you so much doctor\n"
     ]
    }
   ],
   "source": [
    "file = open(\"conversation.txt\",\"r\")\n",
    "text = file.read()\n",
    "# Removing \\n at the end\n",
    "text = text.split('\\n')[0]\n",
    "print(text)\n"
   ]
  },
  {
   "cell_type": "code",
   "execution_count": 2,
   "metadata": {},
   "outputs": [],
   "source": [
    "import boto3\n",
    "client = boto3.client(service_name='comprehendmedical', region_name='us-east-2')\n",
    "result = client.detect_entities(Text= text)"
   ]
  },
  {
   "cell_type": "code",
   "execution_count": 3,
   "metadata": {},
   "outputs": [
    {
     "name": "stdout",
     "output_type": "stream",
     "text": [
      "Entity: Jill , Category: PROTECTED_HEALTH_INFORMATION , Type: NAME , Score: 0.9997410178184509\n",
      "Entity: Mevacor , Category: MEDICATION , Type: BRAND_NAME , Score: 0.970876932144165\n",
      "Entity: Lipitor , Category: MEDICATION , Type: BRAND_NAME , Score: 0.999839186668396\n",
      "Entity: mucus congestion , Category: MEDICAL_CONDITION , Type: DX_NAME , Score: 0.7271867990493774\n",
      "Entity: chest , Category: ANATOMY , Type: SYSTEM_ORGAN_SITE , Score: 0.47813159227371216\n",
      "Entity: chest physical therapy , Category: TEST_TREATMENT_PROCEDURE , Type: TREATMENT_NAME , Score: 0.41972899436950684\n",
      "Entity: pancreatic enzymes , Category: MEDICATION , Type: GENERIC_NAME , Score: 0.9384152889251709\n",
      "Entity: MRI , Category: TEST_TREATMENT_PROCEDURE , Type: TEST_NAME , Score: 0.9790312647819519\n",
      "Entity: Women’s College Hospital , Category: PROTECTED_HEALTH_INFORMATION , Type: ADDRESS , Score: 0.9981922507286072\n"
     ]
    }
   ],
   "source": [
    "entities = result['Entities'];\n",
    "for entity in entities:\n",
    "    print('Entity:', entity['Text'],', Category:',entity['Category'],', Type:', entity['Type'],', Score:',entity['Score'])"
   ]
  },
  {
   "cell_type": "code",
   "execution_count": 4,
   "metadata": {},
   "outputs": [
    {
     "data": {
      "text/plain": [
       "dict_keys(['Entities', 'UnmappedAttributes', 'ResponseMetadata'])"
      ]
     },
     "execution_count": 4,
     "metadata": {},
     "output_type": "execute_result"
    }
   ],
   "source": [
    "result.keys()"
   ]
  },
  {
   "cell_type": "code",
   "execution_count": 5,
   "metadata": {},
   "outputs": [
    {
     "data": {
      "text/plain": [
       "{'Id': 0,\n",
       " 'BeginOffset': 455,\n",
       " 'EndOffset': 477,\n",
       " 'Score': 0.41972899436950684,\n",
       " 'Text': 'chest physical therapy',\n",
       " 'Category': 'TEST_TREATMENT_PROCEDURE',\n",
       " 'Type': 'TREATMENT_NAME',\n",
       " 'Traits': []}"
      ]
     },
     "execution_count": 5,
     "metadata": {},
     "output_type": "execute_result"
    }
   ],
   "source": [
    "result['Entities'][5]"
   ]
  },
  {
   "cell_type": "markdown",
   "metadata": {},
   "source": [
    "### Medications"
   ]
  },
  {
   "cell_type": "code",
   "execution_count": 6,
   "metadata": {},
   "outputs": [
    {
     "name": "stdout",
     "output_type": "stream",
     "text": [
      "Medication: Mevacor\n",
      "DOSAGE : 20 mg\n",
      "FREQUENCY : once a day\n",
      "\n",
      "Medication: Lipitor\n",
      "DOSAGE : 20 mg\n",
      "FREQUENCY : once a day\n",
      "\n",
      "Medication: pancreatic enzymes\n",
      "\n"
     ]
    }
   ],
   "source": [
    "for entity in entities:\n",
    "    if(entity['Category']=='MEDICATION'):\n",
    "        print(\"Medication:\",entity['Text'])\n",
    "        try:\n",
    "            for at in entity['Attributes']:\n",
    "                print(at['Type'],':',at['Text'])\n",
    "        except:\n",
    "            pass\n",
    "        print('')"
   ]
  },
  {
   "cell_type": "markdown",
   "metadata": {},
   "source": [
    "### Tests to get done"
   ]
  },
  {
   "cell_type": "code",
   "execution_count": 7,
   "metadata": {},
   "outputs": [
    {
     "name": "stdout",
     "output_type": "stream",
     "text": [
      "Test: MRI\n",
      "\n"
     ]
    }
   ],
   "source": [
    "for entity in entities:\n",
    "    if(entity['Category']=='TEST_TREATMENT_PROCEDURE'):\n",
    "        if(entity['Type']=='TEST_NAME'):\n",
    "            print(\"Test:\",entity['Text'])\n",
    "            print('')\n",
    "        try:\n",
    "            for at in entity['Attributes']:\n",
    "                print(at['Type'],':',at['Text'])\n",
    "        except:\n",
    "            pass\n",
    "        "
   ]
  },
  {
   "cell_type": "markdown",
   "metadata": {},
   "source": [
    "### Things to remember"
   ]
  },
  {
   "cell_type": "code",
   "execution_count": 8,
   "metadata": {},
   "outputs": [
    {
     "name": "stdout",
     "output_type": "stream",
     "text": [
      "Treatment: chest physical therapy\n",
      "\n",
      "\n"
     ]
    }
   ],
   "source": [
    "for entity in entities:\n",
    "    if(entity['Category']=='TEST_TREATMENT_PROCEDURE'):\n",
    "        if(entity['Type']=='TREATMENT_NAME'):\n",
    "            print(\"Treatment:\",entity['Text'])\n",
    "        try:\n",
    "            for at in entity['Attributes']:\n",
    "                print(at['Type'],':',at['Text'])\n",
    "        except:\n",
    "            pass\n",
    "        print('')"
   ]
  },
  {
   "cell_type": "markdown",
   "metadata": {
    "collapsed": true
   },
   "source": [
    "## Everything Together"
   ]
  },
  {
   "cell_type": "code",
   "execution_count": 9,
   "metadata": {},
   "outputs": [],
   "source": [
    "import boto3\n",
    "def get_summary(text):\n",
    "    client = boto3.client(service_name='comprehendmedical', region_name='us-east-2')\n",
    "    result = client.detect_entities(Text= text)\n",
    "    entities = result['Entities']\n",
    "    result_dict={}\n",
    "    result_dict['medications']=get_medications(entities)\n",
    "    result_dict['tests']=get_tests(entities)\n",
    "    result_dict['things_to_remember']=get_things_to_remember(entities)\n",
    "    return result_dict\n",
    "def get_medications(entities):\n",
    "    medication_dict = {}\n",
    "    for entity in entities:\n",
    "        if(entity['Category']=='MEDICATION'):\n",
    "            medication_dict[entity['Text']] = {}\n",
    "            try:\n",
    "                for at in entity['Attributes']:\n",
    "                    medication_dict[entity['Text']][at['Type']] = at['Text']\n",
    "            except:\n",
    "                pass\n",
    "    return medication_dict\n",
    "\n",
    "def get_tests(entities):\n",
    "    tests_dict = {}\n",
    "    for entity in entities:\n",
    "        if(entity['Category']=='TEST_TREATMENT_PROCEDURE'):\n",
    "            if(entity['Type']=='TEST_NAME'):\n",
    "                tests_dict[entity['Text']]={} \n",
    "            try:\n",
    "                for at in entity['Attributes']:\n",
    "                    tests_dict[entity['Text']][at['Type']] = at['Text']\n",
    "            except:\n",
    "                pass\n",
    "    return tests_dict\n",
    "\n",
    "def get_things_to_remember(entities):\n",
    "    remember_dict={}\n",
    "    for entity in entities:\n",
    "        if(entity['Category']=='TEST_TREATMENT_PROCEDURE'):\n",
    "            if(entity['Type']=='TREATMENT_NAME'):\n",
    "                remember_dict[entity['Text']]={}\n",
    "            try:\n",
    "                for at in entity['Attributes']:\n",
    "                    remember_dict[entity['Text']][at['Type']] = at['Text']\n",
    "            except:\n",
    "                pass\n",
    "\n",
    "    return remember_dict"
   ]
  },
  {
   "cell_type": "code",
   "execution_count": 10,
   "metadata": {},
   "outputs": [
    {
     "name": "stdout",
     "output_type": "stream",
     "text": [
      "{'medications': {'Mevacor': {'DOSAGE': '20 mg', 'FREQUENCY': 'once a day'}, 'Lipitor': {'DOSAGE': '20 mg', 'FREQUENCY': 'once a day'}, 'pancreatic enzymes': {}}, 'tests': {'MRI': {}}, 'things_to_remember': {'chest physical therapy': {}}}\n"
     ]
    }
   ],
   "source": [
    "print(get_summary(text))"
   ]
  },
  {
   "cell_type": "code",
   "execution_count": null,
   "metadata": {
    "collapsed": true
   },
   "outputs": [],
   "source": []
  }
 ],
 "metadata": {
  "kernelspec": {
   "display_name": "Python 3",
   "language": "python",
   "name": "python3"
  },
  "language_info": {
   "codemirror_mode": {
    "name": "ipython",
    "version": 3
   },
   "file_extension": ".py",
   "mimetype": "text/x-python",
   "name": "python",
   "nbconvert_exporter": "python",
   "pygments_lexer": "ipython3",
   "version": "3.7.3"
  }
 },
 "nbformat": 4,
 "nbformat_minor": 2
}
